{
 "cells": [
  {
   "cell_type": "code",
   "execution_count": null,
   "id": "0ad91d91",
   "metadata": {},
   "outputs": [],
   "source": [
    "# ROOT OF DECISION TREE."
   ]
  },
  {
   "cell_type": "code",
   "execution_count": 4,
   "id": "d883ef73",
   "metadata": {},
   "outputs": [
    {
     "name": "stdout",
     "output_type": "stream",
     "text": [
      "    day   outlook  temp humidity    wind play\n",
      "0    D1     Sunny   Hot     High    Weak   No\n",
      "1    D2     Sunny   Hot     High  Strong   No\n",
      "2    D3  Overcast   Hot     High    Weak  Yes\n",
      "3    D4      Rain  Mild     High    Weak  Yes\n",
      "4    D5      Rain  Cool   Normal    Weak  Yes\n",
      "5    D6      Rain  Cool   Normal  Strong   No\n",
      "6    D7  Overcast  Cool   Normal  Strong  Yes\n",
      "7    D8     Sunny  Mild     High    Weak   No\n",
      "8    D9     Sunny  Cool   Normal    Weak  Yes\n",
      "9   D10      Rain  Mild   Normal    Weak  Yes\n",
      "10  D11     Sunny  Mild   Normal  Strong  Yes\n",
      "11  D12  Overcast  Mild     High  Strong  Yes\n",
      "12  D13  Overcast   Hot   Normal    Weak  Yes\n",
      "13  D14      Rain  Mild     High  Strong   No\n"
     ]
    }
   ],
   "source": [
    "import pandas as pd\n",
    "File = pd.read_csv('PlayTennis.csv')\n",
    "print(File)"
   ]
  },
  {
   "cell_type": "code",
   "execution_count": 5,
   "id": "4638f30d",
   "metadata": {},
   "outputs": [
    {
     "name": "stdout",
     "output_type": "stream",
     "text": [
      "<class 'pandas.core.frame.DataFrame'>\n",
      "RangeIndex: 14 entries, 0 to 13\n",
      "Data columns (total 6 columns):\n",
      " #   Column    Non-Null Count  Dtype \n",
      "---  ------    --------------  ----- \n",
      " 0   day       14 non-null     object\n",
      " 1   outlook   14 non-null     object\n",
      " 2   temp      14 non-null     object\n",
      " 3   humidity  14 non-null     object\n",
      " 4   wind      14 non-null     object\n",
      " 5   play      14 non-null     object\n",
      "dtypes: object(6)\n",
      "memory usage: 804.0+ bytes\n",
      "     outlook  temp humidity    wind play\n",
      "0      Sunny   Hot     High    Weak   No\n",
      "1      Sunny   Hot     High  Strong   No\n",
      "2   Overcast   Hot     High    Weak  Yes\n",
      "3       Rain  Mild     High    Weak  Yes\n",
      "4       Rain  Cool   Normal    Weak  Yes\n",
      "5       Rain  Cool   Normal  Strong   No\n",
      "6   Overcast  Cool   Normal  Strong  Yes\n",
      "7      Sunny  Mild     High    Weak   No\n",
      "8      Sunny  Cool   Normal    Weak  Yes\n",
      "9       Rain  Mild   Normal    Weak  Yes\n",
      "10     Sunny  Mild   Normal  Strong  Yes\n",
      "11  Overcast  Mild     High  Strong  Yes\n",
      "12  Overcast   Hot   Normal    Weak  Yes\n",
      "13      Rain  Mild     High  Strong   No\n"
     ]
    }
   ],
   "source": [
    "import numpy as np\n",
    "import pandas as pd\n",
    "import math\n",
    "df=pd.read_csv(r\"C:\\\\Users\\\\smrut\\\\OneDrive\\\\Desktop\\\\AMRITA\\\\SEMESTER-2\\\\ML\\\\lab\\\\PlayTennis.csv\")\n",
    "df.info()\n",
    "df.isnull().sum()\n",
    "df.drop(['day'],axis=1,inplace=True)\n",
    "print(df)"
   ]
  },
  {
   "cell_type": "code",
   "execution_count": 6,
   "id": "0f8805ca",
   "metadata": {},
   "outputs": [
    {
     "name": "stdout",
     "output_type": "stream",
     "text": [
      "    outlook  temp  humidity  wind  play\n",
      "0         2   Hot         0     1     0\n",
      "1         2   Hot         0     0     0\n",
      "2         0   Hot         0     1     1\n",
      "3         1  Mild         0     1     1\n",
      "4         1  Cool         1     1     1\n",
      "5         1  Cool         1     0     0\n",
      "6         0  Cool         1     0     1\n",
      "7         2  Mild         0     1     0\n",
      "8         2  Cool         1     1     1\n",
      "9         1  Mild         1     1     1\n",
      "10        2  Mild         1     0     1\n",
      "11        0  Mild         0     0     1\n",
      "12        0   Hot         1     1     1\n",
      "13        1  Mild         0     0     0\n",
      "Number of zeroes in play: 5\n",
      "Number of ones in play: 9\n",
      "14\n"
     ]
    }
   ],
   "source": [
    "# USING LABELENCODER.\n",
    "from sklearn.preprocessing import LabelEncoder\n",
    "Le=LabelEncoder()\n",
    "df['outlook']=Le.fit_transform(df['outlook'])\n",
    "df['humidity']=Le.fit_transform(df['humidity'])\n",
    "df['wind']=Le.fit_transform(df['wind'])\n",
    "df['play']=Le.fit_transform(df['play'])\n",
    "print(df)\n",
    "count=(df['play']==0).sum()\n",
    "count1=(df['play']==1).sum()\n",
    "print(\"Number of zeroes in play:\",count)\n",
    "print(\"Number of ones in play:\",count1)\n",
    "total=count+count1\n",
    "print(total)"
   ]
  },
  {
   "cell_type": "code",
   "execution_count": 23,
   "id": "e919e445",
   "metadata": {},
   "outputs": [
    {
     "name": "stdout",
     "output_type": "stream",
     "text": [
      "    outlook  temp  humidity  wind  play\n",
      "0         2     1         0     1     0\n",
      "1         2     1         0     0     0\n",
      "2         0     1         0     1     1\n",
      "3         1     2         0     1     1\n",
      "4         1     0         1     1     1\n",
      "5         1     0         1     0     0\n",
      "6         0     0         1     0     1\n",
      "7         2     2         0     1     0\n",
      "8         2     0         1     1     1\n",
      "9         1     2         1     1     1\n",
      "10        2     2         1     0     1\n",
      "11        0     2         0     0     1\n",
      "12        0     1         1     1     1\n",
      "13        1     2         0     0     0\n",
      "Count of {attribute_name}:\n",
      "outlook\n",
      "2    5\n",
      "1    5\n",
      "0    4\n",
      "Name: count, dtype: int64\n",
      "\n",
      "Count of {attribute_name}:\n",
      "temp\n",
      "2    6\n",
      "1    4\n",
      "0    4\n",
      "Name: count, dtype: int64\n",
      "\n",
      "Count of {attribute_name}:\n",
      "humidity\n",
      "0    7\n",
      "1    7\n",
      "Name: count, dtype: int64\n",
      "\n",
      "Count of {attribute_name}:\n",
      "wind\n",
      "1    8\n",
      "0    6\n",
      "Name: count, dtype: int64\n",
      "\n",
      "Count of {attribute_name}:\n",
      "play\n",
      "1    9\n",
      "0    5\n",
      "Name: count, dtype: int64\n",
      "\n",
      "Entropy of outlook: 1.5774062828523454\n",
      "Entropy of temp: 1.5566567074628228\n",
      "Entropy of humidity: 1.0\n",
      "Entropy of wind: 0.9852281360342515\n",
      "Entropy of play: 0.9402859586706311\n",
      "Information Gain of outlook: 0.24674981977443933\n",
      "Information Gain of temp: 0.02922256565895487\n",
      "Information Gain of humidity: 0.15183550136234159\n",
      "Information Gain of wind: 0.04812703040826949\n"
     ]
    }
   ],
   "source": [
    "# ENTROPY CALCULATION.\n",
    "import pandas as pd\n",
    "from sklearn.preprocessing import LabelEncoder\n",
    "import numpy as np\n",
    "\n",
    "# Read the CSV file\n",
    "df = pd.read_csv((\"C:\\\\Users\\\\smrut\\\\OneDrive\\\\Desktop\\\\AMRITA\\\\SEMESTER-2\\\\ML\\\\lab\\\\PlayTennis.csv\"))\n",
    "\n",
    "# Drop the column named 'day'\n",
    "df = df.drop(columns=['day'])\n",
    "\n",
    "# Initialize LabelEncoder\n",
    "label_encoder = LabelEncoder()\n",
    "\n",
    "# Apply Label Encoding to all columns\n",
    "for column in df.columns:\n",
    "    df[column] = label_encoder.fit_transform(df[column])\n",
    "print(df)\n",
    "\n",
    "# Print the count of each attribute\n",
    "for attribute_name in df.columns:\n",
    "    print(\"Count of {attribute_name}:\")\n",
    "    print(df[attribute_name].value_counts())\n",
    "    print()\n",
    "\n",
    "# Function to calculate entropy\n",
    "def calculate_entropy(labels):\n",
    "\n",
    "    # Get unique labels and their counts\n",
    "    unique_labels, label_counts = np.unique(labels, return_counts=True)\n",
    "\n",
    "    # Calculate probabilities\n",
    "    probabilities = label_counts / len(labels)\n",
    "\n",
    "    # Calculate entropy\n",
    "    entropy = np.sum(-probabilities * np.log2(probabilities))\n",
    "    return entropy\n",
    "\n",
    "# Calculate entropy for each attribute\n",
    "for column in df.columns:\n",
    "    attribute_entropy = calculate_entropy(df[column])\n",
    "    print(f\"Entropy of {column}: {attribute_entropy}\")\n",
    "\n",
    "# Function to calculate information gain\n",
    "def calculate_information_gain(data, attribute_name, target_name):\n",
    "    total_entropy = calculate_entropy(data[target_name])\n",
    "    attribute_entropy = sum((len(data[data[attribute_name] == value]) / len(data)) * \n",
    "                            calculate_entropy(data[data[attribute_name] == value][target_name])\n",
    "                            for value in data[attribute_name].unique())\n",
    "    return total_entropy - attribute_entropy\n",
    "\n",
    "# Calculate information gain for each attribute\n",
    "target_name = 'play'\n",
    "for column in df.columns:\n",
    "    if column != target_name:\n",
    "        gain = calculate_information_gain(df, column, target_name)\n",
    "        print(f\"Information Gain of {column}: {gain}\")"
   ]
  },
  {
   "cell_type": "code",
   "execution_count": 12,
   "id": "037d7114",
   "metadata": {},
   "outputs": [
    {
     "name": "stdout",
     "output_type": "stream",
     "text": [
      "Root node : 3\n"
     ]
    }
   ],
   "source": [
    "from sklearn.tree import DecisionTreeClassifier\n",
    "import pandas as pd\n",
    "\n",
    "# Read the CSV file\n",
    "df = pd.read_csv((\"C:\\\\Users\\\\smrut\\\\OneDrive\\\\Desktop\\\\AMRITA\\\\SEMESTER-2\\\\ML\\\\lab\\\\PlayTennis.csv\"))\n",
    "\n",
    "# Train a decision tree model\n",
    "clf = DecisionTreeClassifier()\n",
    "clf.fit(X, y)\n",
    "\n",
    "# Get the root node of the decision tree\n",
    "root_node = clf.tree_\n",
    "\n",
    "# Print the feature index of the root node\n",
    "print(\"Root node :\", root_node.feature[0])"
   ]
  }
 ],
 "metadata": {
  "kernelspec": {
   "display_name": "Python 3 (ipykernel)",
   "language": "python",
   "name": "python3"
  },
  "language_info": {
   "codemirror_mode": {
    "name": "ipython",
    "version": 3
   },
   "file_extension": ".py",
   "mimetype": "text/x-python",
   "name": "python",
   "nbconvert_exporter": "python",
   "pygments_lexer": "ipython3",
   "version": "3.11.5"
  }
 },
 "nbformat": 4,
 "nbformat_minor": 5
}
