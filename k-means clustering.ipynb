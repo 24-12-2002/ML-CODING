{
 "cells": [
  {
   "cell_type": "code",
   "execution_count": 5,
   "id": "bc82994d",
   "metadata": {},
   "outputs": [],
   "source": [
    "import pandas as pd\n",
    "import numpy as np\n",
    "import matplotlib.pyplot as plt\n",
    "from sklearn.cluster import KMeans"
   ]
  },
  {
   "cell_type": "code",
   "execution_count": 2,
   "id": "b9dc3137",
   "metadata": {},
   "outputs": [
    {
     "name": "stdout",
     "output_type": "stream",
     "text": [
      "   0   1\n",
      "0  2  10\n",
      "1  2   5\n",
      "2  8   4\n",
      "3  5   8\n",
      "4  7   5\n",
      "5  6   4\n",
      "6  1   2\n",
      "7  4   9\n"
     ]
    }
   ],
   "source": [
    "import pandas as pd\n",
    "data=[[2,10],[2,5],[8,4],[5,8],[7,5],[6,4],[1,2],[4,9]]\n",
    "df=pd.DataFrame(data)\n",
    "print(df)"
   ]
  },
  {
   "cell_type": "code",
   "execution_count": 43,
   "id": "2b125bc9",
   "metadata": {},
   "outputs": [
    {
     "name": "stdout",
     "output_type": "stream",
     "text": [
      "   X   Y  Cluster\n",
      "0  2  10        0\n",
      "1  2   5        2\n",
      "2  8   4        1\n",
      "3  5   8        0\n",
      "4  7   5        1\n",
      "5  6   4        1\n",
      "6  1   2        2\n",
      "7  4   9        0\n",
      "Cluster Centroids: [[3.66666667 9.        ]\n",
      " [7.         4.33333333]\n",
      " [1.5        3.5       ]]\n"
     ]
    },
    {
     "name": "stderr",
     "output_type": "stream",
     "text": [
      "C:\\Users\\smrut\\anaconda3\\Lib\\site-packages\\sklearn\\cluster\\_kmeans.py:1436: UserWarning: KMeans is known to have a memory leak on Windows with MKL, when there are less chunks than available threads. You can avoid it by setting the environment variable OMP_NUM_THREADS=1.\n",
      "  warnings.warn(\n"
     ]
    }
   ],
   "source": [
    "import pandas as pd\n",
    "from sklearn.cluster import KMeans\n",
    "\n",
    "# Define data points\n",
    "data_points = [[2,10],[2,5],[8,4],[5,8],[7,5],[6,4],[1,2],[4,9]]\n",
    "\n",
    "# Define initial cluster centroids\n",
    "initial_centroids = [[2,10],[5,8],[1,2]]\n",
    "\n",
    "# Perform K-means clustering\n",
    "kmeans = KMeans(n_clusters=len(initial_centroids), init=np.array(initial_centroids), n_init=1)\n",
    "labels = kmeans.fit_predict(data_points)\n",
    "\n",
    "# Create DataFrame to display results\n",
    "df = pd.DataFrame(data_points, columns=['X', 'Y'])\n",
    "df['Cluster'] = labels\n",
    "print(df)\n",
    "\n",
    "# Get the cluster centroids\n",
    "cluster_centroids = kmeans.cluster_centers_\n",
    "print(\"Cluster Centroids:\", cluster_centroids)"
   ]
  },
  {
   "cell_type": "code",
   "execution_count": 44,
   "id": "32372f0b",
   "metadata": {},
   "outputs": [
    {
     "name": "stdout",
     "output_type": "stream",
     "text": [
      "   Cluster                Data Points\n",
      "0        1  [[2, 10], [5, 8], [4, 9]]\n",
      "1        2   [[8, 4], [7, 5], [6, 4]]\n",
      "2        3           [[2, 5], [1, 2]]\n"
     ]
    },
    {
     "name": "stderr",
     "output_type": "stream",
     "text": [
      "C:\\Users\\smrut\\anaconda3\\Lib\\site-packages\\sklearn\\cluster\\_kmeans.py:1436: UserWarning: KMeans is known to have a memory leak on Windows with MKL, when there are less chunks than available threads. You can avoid it by setting the environment variable OMP_NUM_THREADS=1.\n",
      "  warnings.warn(\n"
     ]
    }
   ],
   "source": [
    "import numpy as np\n",
    "import pandas as pd\n",
    "from sklearn.cluster import KMeans\n",
    "\n",
    "# Given data\n",
    "data = np.array([[2, 10], [2, 5], [8, 4], [5, 8], [7, 5], [6, 4], [1, 2], [4, 9]])\n",
    "\n",
    "# Create a DataFrame\n",
    "df = pd.DataFrame(data, columns=['X', 'Y'])\n",
    "\n",
    "# Random initial centroid values\n",
    "initial_centroids = np.array([[2, 10], [5, 8], [1, 2]])\n",
    "\n",
    "# Number of clusters\n",
    "k = initial_centroids.shape[0]\n",
    "\n",
    "# Perform K-means clustering\n",
    "kmeans = KMeans(n_clusters=k, init=initial_centroids, n_init=1).fit(df)\n",
    "\n",
    "# Get cluster labels\n",
    "labels = kmeans.labels_\n",
    "\n",
    "# Add cluster labels to DataFrame\n",
    "df['Cluster'] = labels + 1\n",
    "\n",
    "# Display data points in a table form grouped by their assigned clusters\n",
    "cluster_table = df.groupby('Cluster').apply(lambda x: x[['X', 'Y']].values.tolist()).reset_index(name='Data Points')\n",
    "print(cluster_table)"
   ]
  },
  {
   "cell_type": "code",
   "execution_count": 48,
   "id": "ff38eedf",
   "metadata": {},
   "outputs": [
    {
     "name": "stdout",
     "output_type": "stream",
     "text": [
      "   X   Y  Distance_to_Centroid1  Distance_to_Centroid2  Distance_to_Centroid3  \\\n",
      "0  2  10                      0                      5                      9   \n",
      "1  2   5                      5                      6                      4   \n",
      "2  8   4                     12                      7                      9   \n",
      "3  5   8                      5                      0                     10   \n",
      "4  7   5                     10                      5                      9   \n",
      "5  6   4                     10                      5                      7   \n",
      "6  1   2                      9                     10                      0   \n",
      "7  4   9                      3                      2                     10   \n",
      "\n",
      "   Cluster  \n",
      "0        1  \n",
      "1        3  \n",
      "2        2  \n",
      "3        2  \n",
      "4        2  \n",
      "5        2  \n",
      "6        3  \n",
      "7        2  \n",
      "   Cluster                               Data Points\n",
      "0        1                                 [[2, 10]]\n",
      "1        2  [[8, 4], [5, 8], [7, 5], [6, 4], [4, 9]]\n",
      "2        3                          [[2, 5], [1, 2]]\n"
     ]
    }
   ],
   "source": [
    "import pandas as pd\n",
    "import math\n",
    "import matplotlib.pyplot as plt\n",
    "import numpy as np\n",
    "x=[2,2,8,5,7,6,1,4]\n",
    "y=[10,5,4,8,5,4,2,9]\n",
    "\n",
    "data = np.array(list(zip(x, y)))\n",
    "centroids = np.array([[2, 10], [5, 8], [1, 2]])\n",
    "\n",
    "#calculating distance\n",
    "\n",
    "distances_to_centroids = []\n",
    "\n",
    "for centroid in centroids:\n",
    "\n",
    "    distances = np.sum(np.abs(data - centroid), axis=1)\n",
    "\n",
    "    distances_to_centroids.append(distances)\n",
    "\n",
    "distances_to_centroids = np.array(distances_to_centroids).T\n",
    "\n",
    "columns = [\"X\", \"Y\"]\n",
    "\n",
    "for i in range(len(centroids)):\n",
    "\n",
    "    columns.append(\"Distance_to_Centroid{}\".format(i+1))\n",
    "\n",
    "df = pd.DataFrame(np.concatenate([data, distances_to_centroids], axis=1), columns=columns)\n",
    "\n",
    "cluster_labels = np.argmin(distances_to_centroids, axis=1) + 1\n",
    "\n",
    "df['Cluster'] = cluster_labels\n",
    "print(df)\n",
    "\n",
    "# Display data points in a table form grouped by their assigned clusters\n",
    "cluster_table = df.groupby('Cluster').apply(lambda x: x[['X', 'Y']].values.tolist()).reset_index(name='Data Points')\n",
    "print(cluster_table)"
   ]
  },
  {
   "cell_type": "code",
   "execution_count": 1,
   "id": "0d3dd54c",
   "metadata": {},
   "outputs": [
    {
     "name": "stderr",
     "output_type": "stream",
     "text": [
      "C:\\Users\\smrut\\anaconda3\\Lib\\site-packages\\sklearn\\cluster\\_kmeans.py:1412: FutureWarning: The default value of `n_init` will change from 10 to 'auto' in 1.4. Set the value of `n_init` explicitly to suppress the warning\n",
      "  super()._check_params_vs_input(X, default_n_init=10)\n",
      "C:\\Users\\smrut\\anaconda3\\Lib\\site-packages\\sklearn\\cluster\\_kmeans.py:1436: UserWarning: KMeans is known to have a memory leak on Windows with MKL, when there are less chunks than available threads. You can avoid it by setting the environment variable OMP_NUM_THREADS=1.\n",
      "  warnings.warn(\n"
     ]
    },
    {
     "name": "stdout",
     "output_type": "stream",
     "text": [
      "Cluster centers:\n",
      "[[7.33333333 9.        ]\n",
      " [1.16666667 1.46666667]]\n"
     ]
    }
   ],
   "source": [
    "from sklearn.cluster import KMeans\n",
    "import numpy as np\n",
    "\n",
    "# Sample data\n",
    "X = np.array([[1, 2], [5, 8], [1.5, 1.8], [8, 8], [1, 0.6], [9, 11]])\n",
    "\n",
    "# Instantiate the KMeans class with 2 clusters\n",
    "kmeans = KMeans(n_clusters=2, random_state=0)\n",
    "\n",
    "# Fit the model to the data\n",
    "kmeans.fit(X)\n",
    "\n",
    "# Predict the cluster labels\n",
    "y_kmeans = kmeans.predict(X)\n",
    "\n",
    "# Print the cluster centers\n",
    "print(\"Cluster centers:\")\n",
    "print(kmeans.cluster_centers_)"
   ]
  }
 ],
 "metadata": {
  "kernelspec": {
   "display_name": "Python 3 (ipykernel)",
   "language": "python",
   "name": "python3"
  },
  "language_info": {
   "codemirror_mode": {
    "name": "ipython",
    "version": 3
   },
   "file_extension": ".py",
   "mimetype": "text/x-python",
   "name": "python",
   "nbconvert_exporter": "python",
   "pygments_lexer": "ipython3",
   "version": "3.11.5"
  }
 },
 "nbformat": 4,
 "nbformat_minor": 5
}
